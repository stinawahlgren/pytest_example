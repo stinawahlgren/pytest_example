{
 "cells": [
  {
   "cell_type": "markdown",
   "metadata": {
    "scrolled": true
   },
   "source": [
    "## Unit testing using pytest: a simple example\n",
    "\n",
    "This notebook illustrate unit testing using pytest. You need to have pytest installed. For installation with anaconda, see https://anaconda.org/anaconda/pytest. Here is pytest's webpage: https://docs.pytest.org/en/latest/index.html\n",
    "\n",
    "*Note: pytest is typically run from a command window/terminal. On linux, you can make jupyter-notebook to run terminal commands by writing %%bash in the beginning of the cell. I'm not sure if this works on windows/mac. If it's  not working, copy the pytest command and run in a command window instead*"
   ]
  },
  {
   "cell_type": "markdown",
   "metadata": {},
   "source": [
    "First, let's see how it looks if all tests pass:"
   ]
  },
  {
   "cell_type": "code",
   "execution_count": null,
   "metadata": {},
   "outputs": [],
   "source": [
    "%%bash\n",
    "pytest test/test_all_pass.py"
   ]
  },
  {
   "cell_type": "markdown",
   "metadata": {},
   "source": [
    "And this is what happens if some test fails. As you see, information about the failed test will be displayed. Especially, the point where the test failed is pointed out.\n",
    "\n",
    "Annoyingly, jupyter-notebook will also output a lot of irrelevant error messages. Just ignore that."
   ]
  },
  {
   "cell_type": "code",
   "execution_count": null,
   "metadata": {},
   "outputs": [],
   "source": [
    "%%bash\n",
    "pytest test/test_myfunctions.py"
   ]
  },
  {
   "cell_type": "markdown",
   "metadata": {},
   "source": [
    "If pytest is run without any file specified, it will automatically detect tests:"
   ]
  },
  {
   "cell_type": "code",
   "execution_count": null,
   "metadata": {},
   "outputs": [],
   "source": [
    "%%bash\n",
    "pytest"
   ]
  }
 ],
 "metadata": {
  "kernelspec": {
   "display_name": "Python 3",
   "language": "python",
   "name": "python3"
  },
  "language_info": {
   "codemirror_mode": {
    "name": "ipython",
    "version": 3
   },
   "file_extension": ".py",
   "mimetype": "text/x-python",
   "name": "python",
   "nbconvert_exporter": "python",
   "pygments_lexer": "ipython3",
   "version": "3.8.5"
  }
 },
 "nbformat": 4,
 "nbformat_minor": 4
}
